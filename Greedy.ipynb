{
 "cells": [
  {
   "cell_type": "markdown",
   "id": "4fcc6bfd",
   "metadata": {},
   "source": [
    "# Greedy 알고리즘 문제 풀이"
   ]
  },
  {
   "cell_type": "markdown",
   "id": "8edfda28",
   "metadata": {},
   "source": [
    "## 2022-03-01"
   ]
  },
  {
   "cell_type": "markdown",
   "id": "9f0c33e9",
   "metadata": {},
   "source": [
    "### 2839 설탕 배달"
   ]
  },
  {
   "cell_type": "code",
   "execution_count": null,
   "id": "a6cab21f",
   "metadata": {
    "ExecuteTime": {
     "end_time": "2022-03-09T01:28:44.261365Z",
     "start_time": "2022-03-09T01:28:42.694109Z"
    }
   },
   "outputs": [],
   "source": [
    "N = int(input())\n",
    "b_sum = 0\n",
    "\n",
    "while N >= 0:\n",
    "    if N%5 == 0:\n",
    "        b_sum += N//5\n",
    "        print(b_sum)\n",
    "        break\n",
    "    else:\n",
    "        N -= 3\n",
    "        b_sum += 1\n",
    "else:\n",
    "    print(-1)"
   ]
  },
  {
   "cell_type": "markdown",
   "id": "52091c2d",
   "metadata": {},
   "source": [
    "## 2022-03-02"
   ]
  },
  {
   "cell_type": "markdown",
   "id": "21d89c66",
   "metadata": {},
   "source": [
    "### 11399번 ATM"
   ]
  },
  {
   "cell_type": "code",
   "execution_count": null,
   "id": "5be31d59",
   "metadata": {
    "ExecuteTime": {
     "end_time": "2022-03-09T03:03:19.915201Z",
     "start_time": "2022-03-09T03:03:18.603609Z"
    }
   },
   "outputs": [],
   "source": [
    "N = int(input())\n",
    "time_list = list(map(int, input().split()))\n",
    "time_total = 0\n",
    "\n",
    "time_list.sort(reverse = True)\n",
    "\n",
    "for i, time in enumerate(time_list):\n",
    "    time_total += (i+1)*time\n",
    "\n",
    "print(time_total)"
   ]
  },
  {
   "cell_type": "markdown",
   "id": "cdb24259",
   "metadata": {
    "ExecuteTime": {
     "end_time": "2022-03-09T01:16:50.959658Z",
     "start_time": "2022-03-09T01:16:50.956858Z"
    }
   },
   "source": [
    "## 2022-03-03"
   ]
  },
  {
   "cell_type": "markdown",
   "id": "2dff2aef",
   "metadata": {},
   "source": [
    "### 11047번 동전 0"
   ]
  },
  {
   "cell_type": "code",
   "execution_count": null,
   "id": "e4029074",
   "metadata": {
    "ExecuteTime": {
     "end_time": "2022-03-09T03:30:14.100792Z",
     "start_time": "2022-03-09T03:30:05.083245Z"
    }
   },
   "outputs": [],
   "source": [
    "N, K = map(int, input().split())\n",
    "coin_list = []\n",
    "coin_sum = 0\n",
    "for _ in range(N):\n",
    "    coin_list.append(int(input()))\n",
    "    \n",
    "coin_list.sort(reverse = True)\n",
    "\n",
    "for i in range(len(coin_list)):\n",
    "    coin_sum += K // coin_list[i]\n",
    "    K = K % coin_list[i]\n",
    "\n",
    "print(coin_sum)"
   ]
  },
  {
   "cell_type": "markdown",
   "id": "fddb2556",
   "metadata": {},
   "source": [
    "## 2022-03-04"
   ]
  },
  {
   "cell_type": "markdown",
   "id": "90a46270",
   "metadata": {},
   "source": [
    "### 1931번 회의실배정"
   ]
  },
  {
   "cell_type": "code",
   "execution_count": null,
   "id": "eaf998c7",
   "metadata": {},
   "outputs": [],
   "source": [
    "N = int(input())\n",
    "meeting_list = []\n",
    "\n",
    "for _ in range(N):\n",
    "    start, end = list(map(int,input().split()))\n",
    "    meeting_list.append([start, end])\n",
    "    \n",
    "meeting_list = sorted(meeting_list, key = lambda a: a[0])\n",
    "meeting_list = sorted(meeting_list, key = lambda a: a[1])\n",
    "\n",
    "last = 0\n",
    "count = 0\n",
    "\n",
    "for i, j in meeting_list:\n",
    "    if i >= last:\n",
    "        count += 1\n",
    "        last = j\n",
    "    else:\n",
    "        pass\n",
    "\n",
    "print(count)"
   ]
  },
  {
   "cell_type": "markdown",
   "id": "4090b369",
   "metadata": {},
   "source": [
    "## 2022-03-05"
   ]
  },
  {
   "cell_type": "markdown",
   "id": "daaea77c",
   "metadata": {},
   "source": [
    "### 1026번 보물"
   ]
  },
  {
   "cell_type": "code",
   "execution_count": null,
   "id": "a4f5f3cd",
   "metadata": {},
   "outputs": [],
   "source": [
    "N = int(input())\n",
    "A_list = list(map(int,input().split()))\n",
    "B_list = list(map(int,input().split()))\n",
    "S = 0\n",
    "\n",
    "A_list.sort()\n",
    "B_list.sort(reverse = True)\n",
    "\n",
    "for i in range(N):\n",
    "    S += A_list[i]*B_list[i]\n",
    "\n",
    "print(S)"
   ]
  },
  {
   "cell_type": "markdown",
   "id": "d2d225c6",
   "metadata": {},
   "source": [
    "## 2022-03-06"
   ]
  },
  {
   "cell_type": "markdown",
   "id": "71def291",
   "metadata": {},
   "source": [
    "### 1541번 잃어버린 괄호"
   ]
  },
  {
   "cell_type": "code",
   "execution_count": null,
   "id": "5b0c8c44",
   "metadata": {},
   "outputs": [],
   "source": [
    "n = input().split('-')\n",
    "sum = 0\n",
    "\n",
    "for i in n[0].split('+'):\n",
    "    sum +=int(i)\n",
    "for i in n[1:]:\n",
    "    for j in i.split('+'):\n",
    "        sum -= int(j)\n",
    "\n",
    "print(sum)"
   ]
  },
  {
   "cell_type": "markdown",
   "id": "50948bbf",
   "metadata": {},
   "source": [
    "## 2022-03-07"
   ]
  },
  {
   "cell_type": "markdown",
   "id": "dc9ca32b",
   "metadata": {},
   "source": [
    "### 5585번 거스름돈"
   ]
  },
  {
   "cell_type": "code",
   "execution_count": null,
   "id": "8215ee40",
   "metadata": {
    "ExecuteTime": {
     "end_time": "2022-03-14T12:05:54.307246Z",
     "start_time": "2022-03-14T12:05:52.966075Z"
    }
   },
   "outputs": [],
   "source": [
    "price = int(input())\n",
    "changes_list = [500, 100, 50, 10, 5, 1]\n",
    "cost = 1000 - price\n",
    "count_changes = 0\n",
    "t = 0\n",
    "\n",
    "for change in changes_list:\n",
    "    if cost // change >= 1:\n",
    "        t = cost // change\n",
    "        cost -= change * t\n",
    "        count_changes += t\n",
    "    else:\n",
    "        pass\n",
    "\n",
    "print(count_changes)"
   ]
  },
  {
   "cell_type": "markdown",
   "id": "a25c21e1",
   "metadata": {},
   "source": [
    "## 2022-03-08"
   ]
  },
  {
   "cell_type": "markdown",
   "id": "4f45676d",
   "metadata": {},
   "source": [
    "### 2217번 로프"
   ]
  },
  {
   "cell_type": "code",
   "execution_count": null,
   "id": "a95eba5d",
   "metadata": {},
   "outputs": [],
   "source": [
    "N = int(input()\n",
    "rope_list = []\n",
    "rope_list2 = []\n",
    "\n",
    "for i in range(N):\n",
    "    rope_list.append(int(input()))\n",
    "rope_list.sort(reverse = True)\n",
    "\n",
    "for i, t in enumerate(rope_list):\n",
    "    rope_list2.append(t*(i+1))\n",
    "\n",
    "print(max(rope_list2))"
   ]
  },
  {
   "cell_type": "markdown",
   "id": "ff8e1253",
   "metadata": {},
   "source": [
    "## 2022-03-08"
   ]
  },
  {
   "cell_type": "markdown",
   "id": "9ab0b869",
   "metadata": {},
   "source": [
    "### 10162번 전자레인지"
   ]
  },
  {
   "cell_type": "code",
   "execution_count": null,
   "id": "7ea22541",
   "metadata": {
    "ExecuteTime": {
     "end_time": "2022-03-15T03:03:04.512891Z",
     "start_time": "2022-03-15T03:03:03.386453Z"
    }
   },
   "outputs": [],
   "source": [
    "T = int(input())\n",
    "button_list = [300 ,60, 10]\n",
    "button_push = []\n",
    "push_time = 0\n",
    "\n",
    "for button in button_list:\n",
    "    push_time = T // button\n",
    "    button_push.append(push_time)\n",
    "    T -= button*push_time\n",
    "    \n",
    "if T == 0:\n",
    "    print(button_push[0], button_push[1], button_push[2])\n",
    "else:\n",
    "    print(-1)"
   ]
  },
  {
   "cell_type": "markdown",
   "id": "dd371a14",
   "metadata": {},
   "source": [
    "## 2022-03-09"
   ]
  },
  {
   "cell_type": "markdown",
   "id": "7dc6cedc",
   "metadata": {},
   "source": [
    "### 10610번 30"
   ]
  },
  {
   "cell_type": "code",
   "execution_count": null,
   "id": "7f41dbc1",
   "metadata": {
    "ExecuteTime": {
     "end_time": "2022-03-15T02:28:24.547667Z",
     "start_time": "2022-03-15T02:28:21.483013Z"
    }
   },
   "outputs": [],
   "source": [
    "N = list(map(int,input()))\n",
    "N.sort(reverse = True)\n",
    "\n",
    "if sum(N) % 3 == 0 and N[-1] == 0:\n",
    "    for i in N:\n",
    "        print(i, end = '')\n",
    "else:\n",
    "    print(-1)"
   ]
  },
  {
   "cell_type": "markdown",
   "id": "e45e7e8b",
   "metadata": {},
   "source": [
    "## 2022-03-10"
   ]
  },
  {
   "cell_type": "markdown",
   "id": "07a770f2",
   "metadata": {},
   "source": [
    "### 1789번 수들의 합"
   ]
  },
  {
   "cell_type": "code",
   "execution_count": null,
   "id": "c83c22e5",
   "metadata": {
    "ExecuteTime": {
     "end_time": "2022-03-15T11:13:22.145719Z",
     "start_time": "2022-03-15T11:13:21.199479Z"
    }
   },
   "outputs": [],
   "source": [
    "S = int(input())\n",
    "N = 1\n",
    "\n",
    "while N * (N+1) / 2 <= S:\n",
    "    N += 1\n",
    "\n",
    "print(N-1)"
   ]
  },
  {
   "cell_type": "markdown",
   "id": "ea4f60ae",
   "metadata": {},
   "source": [
    "## 2022-03-11"
   ]
  },
  {
   "cell_type": "markdown",
   "id": "0c6636bd",
   "metadata": {
    "ExecuteTime": {
     "end_time": "2022-03-14T12:09:46.144975Z",
     "start_time": "2022-03-14T12:09:46.141001Z"
    }
   },
   "source": [
    "### 13305번 주유소"
   ]
  },
  {
   "cell_type": "code",
   "execution_count": null,
   "id": "b086a57c",
   "metadata": {},
   "outputs": [],
   "source": [
    "N = int(input())\n",
    "road_list = list(map(int, input().split()))\n",
    "price_list = list(map(int, input().split()))\n",
    "\n",
    "price = price_list[0]\n",
    "total_oil = 0\n",
    "\n",
    "for i in range(N-1):\n",
    "    if price > price_list[i]:\n",
    "        price = price_list[i]\n",
    "    total_oil += price * road_list[i]\n",
    "\n",
    "print(total_oil)"
   ]
  },
  {
   "cell_type": "markdown",
   "id": "98657b68",
   "metadata": {
    "ExecuteTime": {
     "end_time": "2022-03-15T11:17:23.674441Z",
     "start_time": "2022-03-15T11:17:23.668600Z"
    }
   },
   "source": [
    "## 2022-03-12"
   ]
  },
  {
   "cell_type": "markdown",
   "id": "064d2d1e",
   "metadata": {},
   "source": [
    "### 1946번 신입사원"
   ]
  },
  {
   "cell_type": "code",
   "execution_count": null,
   "id": "743f80ba",
   "metadata": {
    "ExecuteTime": {
     "end_time": "2022-03-16T13:36:30.630125Z",
     "start_time": "2022-03-16T13:36:09.410993Z"
    }
   },
   "outputs": [],
   "source": [
    "T = int(input())\n",
    "\n",
    "for i in range(T):\n",
    "    count = 1\n",
    "    people = []\n",
    "    N = int(input())\n",
    "    for j in range(N):\n",
    "        s,m = map(int, input().split())\n",
    "        people.append([s,m])\n",
    "        \n",
    "    people.sort()\n",
    "    Max = people[0][1]\n",
    "    \n",
    "    for i in range(1,N):\n",
    "        if Max > people[i][1]:\n",
    "            count += 1\n",
    "            Max = people[i][1]\n",
    "            \n",
    "    print(count)"
   ]
  },
  {
   "cell_type": "markdown",
   "id": "13251129",
   "metadata": {},
   "source": [
    "## 2022-03-13"
   ]
  },
  {
   "cell_type": "markdown",
   "id": "8e3f2a1c",
   "metadata": {},
   "source": [
    "### 1339번 단어 수학"
   ]
  },
  {
   "cell_type": "code",
   "execution_count": null,
   "id": "d5047adb",
   "metadata": {},
   "outputs": [],
   "source": [
    "N = int(input())\n",
    "\n",
    "word_list = []\n",
    "for i in range(N):\n",
    "    word_list.append(input())\n",
    "    \n",
    "dict = {}\n",
    "\n",
    "for word in word_list:\n",
    "    sr = len(word) - 1\n",
    "    for i in word:\n",
    "        if i in dict:\n",
    "            dict[i] += pow(10, sr)\n",
    "        else:\n",
    "            dict[i] = pow(10,sr)\n",
    "        sr -= 1\n",
    "\n",
    "dict = sorted(dict.values(), reverse = True)\n",
    "n, m = 0, 9\n",
    "\n",
    "for value in dict:\n",
    "    n += value * m\n",
    "    m -= 1\n",
    "    \n",
    "print(n)"
   ]
  },
  {
   "cell_type": "markdown",
   "id": "a704728b",
   "metadata": {},
   "source": [
    "## 2022-03-14"
   ]
  },
  {
   "cell_type": "markdown",
   "id": "4ad3ec1d",
   "metadata": {},
   "source": [
    "### 1715번 카드 정렬하기"
   ]
  },
  {
   "cell_type": "code",
   "execution_count": null,
   "id": "da2580b8",
   "metadata": {
    "ExecuteTime": {
     "end_time": "2022-03-16T13:54:19.001624Z",
     "start_time": "2022-03-16T13:54:15.649810Z"
    }
   },
   "outputs": [],
   "source": [
    "import heapq\n",
    "\n",
    "N = int(input())\n",
    "card_list = []\n",
    "\n",
    "for _ in range(N):\n",
    "    heapq.heappush(card_list, int(input()))\n",
    "    \n",
    "if len(card_list) == 1:\n",
    "    print(0)\n",
    "else:\n",
    "    total = 0\n",
    "    while len(card_list) > 1:\n",
    "        c1 = heapq.heappop(card_list)\n",
    "        c2 = heapq.heappop(card_list)\n",
    "        total += c1 + c2\n",
    "        heapq.heappush(card_list, c1 + c2)\n",
    "    print(total)"
   ]
  },
  {
   "cell_type": "markdown",
   "id": "e405f132",
   "metadata": {},
   "source": [
    "## 2022-03-15"
   ]
  },
  {
   "cell_type": "markdown",
   "id": "3b7cf902",
   "metadata": {},
   "source": [
    "### 1439번 뒤집기"
   ]
  },
  {
   "cell_type": "code",
   "execution_count": null,
   "id": "f40f8e56",
   "metadata": {
    "ExecuteTime": {
     "end_time": "2022-03-16T13:54:13.590146Z",
     "start_time": "2022-03-16T13:54:12.952617Z"
    }
   },
   "outputs": [],
   "source": [
    "S = input()\n",
    "count0 = 0\n",
    "count1 = 0\n",
    "\n",
    "for i in range(len(S)-1):\n",
    "    if S[i] != S[i+1] and S[i] == '0':\n",
    "        count0 +=1\n",
    "    elif S[i] != S[i+1] and S[i] == '1':\n",
    "        count1 +=1\n",
    "    else:\n",
    "        pass\n",
    "\n",
    "print(max(count0, count1))"
   ]
  },
  {
   "cell_type": "markdown",
   "id": "5ef36b29",
   "metadata": {},
   "source": [
    "## 2022-03-16"
   ]
  },
  {
   "cell_type": "markdown",
   "id": "c5467d81",
   "metadata": {},
   "source": [
    "### 16953번 A -> B"
   ]
  },
  {
   "cell_type": "code",
   "execution_count": null,
   "id": "47f3148d",
   "metadata": {
    "ExecuteTime": {
     "end_time": "2022-03-16T13:52:49.741819Z",
     "start_time": "2022-03-16T13:52:46.832335Z"
    }
   },
   "outputs": [],
   "source": [
    "A, B = map(int,input().split())\n",
    "count = 1\n",
    "\n",
    "while A != B:\n",
    "    count += 1\n",
    "    b1 = B\n",
    "    if B % 10 == 1:\n",
    "        B //= 10\n",
    "    elif B % 2 ==0:\n",
    "        B //= 2\n",
    "    \n",
    "    if b1 == B:\n",
    "        count = -1\n",
    "        break\n",
    "    else:\n",
    "        pass\n",
    "\n",
    "print(count)"
   ]
  },
  {
   "cell_type": "markdown",
   "id": "38a9aad8",
   "metadata": {},
   "source": [
    "## 2022-03-17"
   ]
  },
  {
   "cell_type": "markdown",
   "id": "e83ea436",
   "metadata": {},
   "source": [
    "### 4796번 캠핑"
   ]
  },
  {
   "cell_type": "code",
   "execution_count": null,
   "id": "368e9e90",
   "metadata": {
    "ExecuteTime": {
     "end_time": "2022-03-17T05:16:20.441950Z",
     "start_time": "2022-03-17T05:16:16.423018Z"
    }
   },
   "outputs": [],
   "source": [
    "case_num = 1\n",
    "result = 0\n",
    "\n",
    "while True:\n",
    "    L, P, V = map(int, input().split())\n",
    "    if L + P + V ==0:\n",
    "        break\n",
    "    else:\n",
    "        if V % P > L:\n",
    "            result = ((V // P) * L) + L\n",
    "        else:\n",
    "            result = ((V // P) * L) + (V % P)\n",
    "        print('Case {}: {}'.format(case_num, result))\n",
    "        case_num += 1"
   ]
  },
  {
   "cell_type": "markdown",
   "id": "dd25c731",
   "metadata": {},
   "source": [
    "## 2022-03-18"
   ]
  },
  {
   "cell_type": "markdown",
   "id": "d95b6cca",
   "metadata": {},
   "source": [
    "### 1202번 보석 도둑"
   ]
  },
  {
   "cell_type": "code",
   "execution_count": null,
   "id": "251e1a07",
   "metadata": {
    "ExecuteTime": {
     "end_time": "2022-03-18T10:32:01.810136Z",
     "start_time": "2022-03-18T10:31:53.944013Z"
    }
   },
   "outputs": [],
   "source": [
    "N, K = map(int, input().split())\n",
    "M_V_list = []\n",
    "total_price = 0\n",
    "C_list = []\n",
    "new_list = []\n",
    "\n",
    "for _ in range(N):\n",
    "    M, V = map(int, input().split())\n",
    "    M_V_list.append([M, V])\n",
    "\n",
    "for _ in range(K):\n",
    "    C = int(input())\n",
    "    C_list.append(C)\n",
    "C_list.sort()\n",
    "\n",
    "a_list = [] # 비교 리스트\n",
    "\n",
    "for C in C_list:\n",
    "    for M, V in M_V_list:\n",
    "        if C >= M:\n",
    "            a_list.append(V)\n",
    "        else:\n",
    "            pass\n",
    "\n",
    "for v in a_list:\n",
    "    if v not in new_list:\n",
    "        new_list.append(v)\n",
    "        \n",
    "new_list.sort()\n",
    "\n",
    "for _ in range(K):\n",
    "    total_price += new_list.pop()\n",
    "\n",
    "print(total_price)"
   ]
  },
  {
   "cell_type": "markdown",
   "id": "d0b03e23",
   "metadata": {},
   "source": [
    "## 2022-03-19"
   ]
  },
  {
   "cell_type": "markdown",
   "id": "70264ac8",
   "metadata": {},
   "source": [
    "### 1049번 기타줄"
   ]
  },
  {
   "cell_type": "code",
   "execution_count": null,
   "id": "2ae8e584",
   "metadata": {
    "ExecuteTime": {
     "end_time": "2022-03-20T12:24:30.152377Z",
     "start_time": "2022-03-20T12:24:25.973770Z"
    }
   },
   "outputs": [],
   "source": [
    "N, M = map(int,input().split())\n",
    "p_list = []\n",
    "i_list = []\n",
    "total_price = 0\n",
    "\n",
    "for _ in range(M):\n",
    "    p, i = map(int, input().split())\n",
    "    p_list.append(p)\n",
    "    i_list.append(i)\n",
    "\n",
    "p = min(p_list)\n",
    "i = min(i_list)\n",
    "\n",
    "if p <= i * 6:\n",
    "    total_price = p * (N // 6) + i * (N % 6)\n",
    "    if p < i * (N % 6):\n",
    "        total_price = p * (N // 6 + 1)\n",
    "else:\n",
    "    total_price = i * N\n",
    "\n",
    "print(total_price)"
   ]
  },
  {
   "cell_type": "markdown",
   "id": "13b00b3d",
   "metadata": {},
   "source": [
    "## 2022-03-20"
   ]
  },
  {
   "cell_type": "markdown",
   "id": "93dd44a1",
   "metadata": {},
   "source": [
    "### 1744번 수 묶기"
   ]
  },
  {
   "cell_type": "code",
   "execution_count": null,
   "id": "d12637b6",
   "metadata": {
    "ExecuteTime": {
     "end_time": "2022-03-20T12:38:29.173698Z",
     "start_time": "2022-03-20T12:38:21.792452Z"
    }
   },
   "outputs": [],
   "source": [
    "N = int(input())\n",
    "number_list = []\n",
    "sum_n = 0\n",
    "\n",
    "for _ in range(N):\n",
    "    number = int(input())\n",
    "    number_list.append(number)\n",
    "\n",
    "ne = []\n",
    "po = []\n",
    "\n",
    "for number in number_list:\n",
    "    if number <= 0:\n",
    "        ne.append(number)\n",
    "    elif number == 1:\n",
    "        sum_n += 1\n",
    "    else:\n",
    "        po.append(number)\n",
    "\n",
    "ne.sort()\n",
    "po.sort(reverse = True)\n",
    "\n",
    "for i in range(0, len(ne), 2):\n",
    "    if i+1 < len(ne):\n",
    "        sum_n += ne[i] * ne[i+1]\n",
    "    else:\n",
    "        sum_n += ne[i]\n",
    "\n",
    "for i in range(0, len(po), 2):\n",
    "    if i+1 < len(po):\n",
    "        sum_n += po[i] * po[i+1]\n",
    "    else:\n",
    "        sum_n += po[i]\n",
    "\n",
    "print(sum_n)"
   ]
  },
  {
   "cell_type": "markdown",
   "id": "1244b413",
   "metadata": {},
   "source": [
    "## 2022-03-21"
   ]
  },
  {
   "cell_type": "markdown",
   "id": "2dc7227d",
   "metadata": {},
   "source": [
    "### 2864번 5와 6의 차이"
   ]
  },
  {
   "cell_type": "code",
   "execution_count": null,
   "id": "bcb3288d",
   "metadata": {
    "ExecuteTime": {
     "end_time": "2022-03-21T01:25:36.891936Z",
     "start_time": "2022-03-21T01:25:32.806854Z"
    }
   },
   "outputs": [],
   "source": [
    "A, B = input().split()\n",
    "\n",
    "min_A = int(A.replace('6','5'))\n",
    "min_B = int(B.replace('6','5'))\n",
    "max_A = int(A.replace('5','6'))\n",
    "max_B = int(B.replace('5','6'))\n",
    "\n",
    "print(min_A + min_B, max_A + max_B)"
   ]
  }
 ],
 "metadata": {
  "kernelspec": {
   "display_name": "Python 3 (ipykernel)",
   "language": "python",
   "name": "python3"
  },
  "language_info": {
   "codemirror_mode": {
    "name": "ipython",
    "version": 3
   },
   "file_extension": ".py",
   "mimetype": "text/x-python",
   "name": "python",
   "nbconvert_exporter": "python",
   "pygments_lexer": "ipython3",
   "version": "3.9.7"
  },
  "toc": {
   "base_numbering": 1,
   "nav_menu": {
    "height": "171px",
    "width": "304px"
   },
   "number_sections": false,
   "sideBar": true,
   "skip_h1_title": false,
   "title_cell": "Table of Contents",
   "title_sidebar": "Contents",
   "toc_cell": false,
   "toc_position": {
    "height": "calc(100% - 180px)",
    "left": "10px",
    "top": "150px",
    "width": "165px"
   },
   "toc_section_display": true,
   "toc_window_display": true
  },
  "widgets": {
   "application/vnd.jupyter.widget-state+json": {
    "state": {},
    "version_major": 2,
    "version_minor": 0
   }
  }
 },
 "nbformat": 4,
 "nbformat_minor": 5
}
