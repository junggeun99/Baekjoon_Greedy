{
 "cells": [
  {
   "cell_type": "markdown",
   "id": "4fcc6bfd",
   "metadata": {},
   "source": [
    "# Greedy 알고리즘 문제 풀이"
   ]
  },
  {
   "cell_type": "markdown",
   "id": "8edfda28",
   "metadata": {},
   "source": [
    "## 2022-03-01"
   ]
  },
  {
   "cell_type": "markdown",
   "id": "9f0c33e9",
   "metadata": {},
   "source": [
    "### 2839 설탕 배달"
   ]
  },
  {
   "cell_type": "code",
   "execution_count": null,
   "id": "a6cab21f",
   "metadata": {
    "ExecuteTime": {
     "end_time": "2022-03-09T01:28:44.261365Z",
     "start_time": "2022-03-09T01:28:42.694109Z"
    }
   },
   "outputs": [],
   "source": [
    "N = int(input())\n",
    "b_sum = 0\n",
    "\n",
    "while N >= 0:\n",
    "    if N%5 == 0:\n",
    "        b_sum += N//5\n",
    "        print(b_sum)\n",
    "        break\n",
    "    else:\n",
    "        N -= 3\n",
    "        b_sum += 1\n",
    "else:\n",
    "    print(-1)"
   ]
  },
  {
   "cell_type": "markdown",
   "id": "52091c2d",
   "metadata": {},
   "source": [
    "## 2022-03-02"
   ]
  },
  {
   "cell_type": "markdown",
   "id": "21d89c66",
   "metadata": {},
   "source": [
    "### 11399번 ATM"
   ]
  },
  {
   "cell_type": "code",
   "execution_count": null,
   "id": "5be31d59",
   "metadata": {
    "ExecuteTime": {
     "end_time": "2022-03-09T03:03:19.915201Z",
     "start_time": "2022-03-09T03:03:18.603609Z"
    }
   },
   "outputs": [],
   "source": [
    "N = int(input())\n",
    "time_list = list(map(int, input().split()))\n",
    "time_total = 0\n",
    "\n",
    "time_list.sort(reverse = True)\n",
    "\n",
    "for i, time in enumerate(time_list):\n",
    "    time_total += (i+1)*time\n",
    "\n",
    "print(time_total)"
   ]
  },
  {
   "cell_type": "markdown",
   "id": "cdb24259",
   "metadata": {
    "ExecuteTime": {
     "end_time": "2022-03-09T01:16:50.959658Z",
     "start_time": "2022-03-09T01:16:50.956858Z"
    }
   },
   "source": [
    "## 2022-03-03"
   ]
  },
  {
   "cell_type": "markdown",
   "id": "2dff2aef",
   "metadata": {},
   "source": [
    "### 11047번 동전 0"
   ]
  },
  {
   "cell_type": "code",
   "execution_count": null,
   "id": "e4029074",
   "metadata": {
    "ExecuteTime": {
     "end_time": "2022-03-09T03:30:14.100792Z",
     "start_time": "2022-03-09T03:30:05.083245Z"
    }
   },
   "outputs": [],
   "source": [
    "N, K = map(int, input().split())\n",
    "coin_list = []\n",
    "coin_sum = 0\n",
    "for _ in range(N):\n",
    "    coin_list.append(int(input()))\n",
    "    \n",
    "coin_list.sort(reverse = True)\n",
    "\n",
    "for i in range(len(coin_list)):\n",
    "    coin_sum += K // coin_list[i]\n",
    "    K = K % coin_list[i]\n",
    "\n",
    "print(coin_sum)"
   ]
  },
  {
   "cell_type": "markdown",
   "id": "34b1d8a1",
   "metadata": {},
   "source": [
    "## 2022-03-04"
   ]
  },
  {
   "cell_type": "markdown",
   "id": "e95638c5",
   "metadata": {},
   "source": [
    "### 1931번 회의실배정"
   ]
  },
  {
   "cell_type": "code",
   "execution_count": null,
   "id": "984cb8af",
   "metadata": {},
   "outputs": [],
   "source": [
    "N = int(input())\n",
    "meeting_list = []\n",
    "\n",
    "for _ in range(N):\n",
    "    start, end = list(map(int,input().split()))\n",
    "    meeting_list.append([start, end])\n",
    "    \n",
    "meeting_list = sorted(meeting_list, key = lambda a: a[0])\n",
    "meeting_list = sorted(meeting_list, key = lambda a: a[1])\n",
    "\n",
    "last = 0\n",
    "count = 0\n",
    "\n",
    "for i, j in meeting_list:\n",
    "    if i >= last:\n",
    "        count += 1\n",
    "        last = j\n",
    "    else:\n",
    "        pass\n",
    "\n",
    "print(count)"
   ]
  },
  {
   "cell_type": "markdown",
   "id": "b096fee7",
   "metadata": {},
   "source": [
    "## 2022-03-05"
   ]
  },
  {
   "cell_type": "markdown",
   "id": "4f78756c",
   "metadata": {},
   "source": [
    "### 1026번 보물"
   ]
  },
  {
   "cell_type": "code",
   "execution_count": null,
   "id": "812e30e8",
   "metadata": {},
   "outputs": [],
   "source": [
    "N = int(input())\n",
    "A_list = list(map(int,input().split()))\n",
    "B_list = list(map(int,input().split()))\n",
    "S = 0\n",
    "\n",
    "A_list.sort()\n",
    "B_list.sort(reverse = True)\n",
    "\n",
    "for i in range(N):\n",
    "    S += A_list[i]*B_list[i]\n",
    "\n",
    "print(S)"
   ]
  },
  {
   "cell_type": "markdown",
   "id": "be99e4b1",
   "metadata": {},
   "source": [
    "## 2022-03-06"
   ]
  },
  {
   "cell_type": "markdown",
   "id": "1209ac8f",
   "metadata": {},
   "source": [
    "### 1541번 잃어버린 괄호"
   ]
  },
  {
   "cell_type": "code",
   "execution_count": null,
   "id": "3c2336b9",
   "metadata": {},
   "outputs": [],
   "source": [
    "n = input().split('-')\n",
    "sum = 0\n",
    "\n",
    "for i in n[0].split('+'):\n",
    "    sum +=int(i)\n",
    "for i in n[1:]:\n",
    "    for j in i.split('+'):\n",
    "        sum -= int(j)\n",
    "\n",
    "print(sum)"
   ]
  },
  {
   "cell_type": "markdown",
   "id": "56512286",
   "metadata": {},
   "source": [
    "## 2022-03-07"
   ]
  },
  {
   "cell_type": "markdown",
   "id": "a9599092",
   "metadata": {},
   "source": [
    "### 5585번 거스름돈"
   ]
  },
  {
   "cell_type": "code",
   "execution_count": null,
   "id": "ea615708",
   "metadata": {
    "ExecuteTime": {
     "end_time": "2022-03-14T12:05:54.307246Z",
     "start_time": "2022-03-14T12:05:52.966075Z"
    }
   },
   "outputs": [],
   "source": [
    "price = int(input())\n",
    "changes_list = [500, 100, 50, 10, 5, 1]\n",
    "cost = 1000 - price\n",
    "count_changes = 0\n",
    "t = 0\n",
    "\n",
    "for change in changes_list:\n",
    "    if cost // change >= 1:\n",
    "        t = cost // change\n",
    "        cost -= change * t\n",
    "        count_changes += t\n",
    "    else:\n",
    "        pass\n",
    "\n",
    "print(count_changes)"
   ]
  },
  {
   "cell_type": "markdown",
   "id": "6eaeab7e",
   "metadata": {},
   "source": [
    "## 2022-03-08"
   ]
  },
  {
   "cell_type": "markdown",
   "id": "5e29754d",
   "metadata": {},
   "source": [
    "### 2217번 로프"
   ]
  },
  {
   "cell_type": "code",
   "execution_count": null,
   "id": "deba2a98",
   "metadata": {},
   "outputs": [],
   "source": [
    "N = int(input()\n",
    "rope_list = []\n",
    "rope_list2 = []\n",
    "\n",
    "for i in range(N):\n",
    "    rope_list.append(int(input()))\n",
    "rope_list.sort(reverse = True)\n",
    "\n",
    "for i, t in enumerate(rope_list):\n",
    "    rope_list2.append(t*(i+1))\n",
    "\n",
    "print(max(rope_list2))"
   ]
  },
  {
   "cell_type": "markdown",
   "id": "ea71d963",
   "metadata": {},
   "source": [
    "## 2022-03-08"
   ]
  },
  {
   "cell_type": "markdown",
   "id": "9af87284",
   "metadata": {},
   "source": [
    "### 10162번 전자레인지"
   ]
  },
  {
   "cell_type": "code",
   "execution_count": null,
   "id": "9fa9ef8d",
   "metadata": {},
   "outputs": [],
   "source": [
    "T = int(input())\n",
    "button_list = [300 ,60, 10]\n",
    "button_push = []\n",
    "push_time = 0\n",
    "\n",
    "for button in button_list:\n",
    "    push_time = T // button\n",
    "    button_push.append(push_time)\n",
    "    T -= button*push_time\n",
    "    \n",
    "if T == 0:\n",
    "    print(button_push[0], button_push[1], button_push[2])\n",
    "else:\n",
    "    print(-1)"
   ]
  }
 ],
 "metadata": {
  "kernelspec": {
   "display_name": "Python 3 (ipykernel)",
   "language": "python",
   "name": "python3"
  },
  "language_info": {
   "codemirror_mode": {
    "name": "ipython",
    "version": 3
   },
   "file_extension": ".py",
   "mimetype": "text/x-python",
   "name": "python",
   "nbconvert_exporter": "python",
   "pygments_lexer": "ipython3",
   "version": "3.9.7"
  },
  "toc": {
   "base_numbering": 1,
   "nav_menu": {
    "height": "171px",
    "width": "304px"
   },
   "number_sections": false,
   "sideBar": true,
   "skip_h1_title": false,
   "title_cell": "Table of Contents",
   "title_sidebar": "Contents",
   "toc_cell": false,
   "toc_position": {
    "height": "calc(100% - 180px)",
    "left": "10px",
    "top": "150px",
    "width": "181px"
   },
   "toc_section_display": true,
   "toc_window_display": true
  },
  "widgets": {
   "application/vnd.jupyter.widget-state+json": {
    "state": {},
    "version_major": 2,
    "version_minor": 0
   }
  }
 },
 "nbformat": 4,
 "nbformat_minor": 5
}
